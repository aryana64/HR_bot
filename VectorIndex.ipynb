{
 "cells": [
  {
   "cell_type": "code",
   "execution_count": null,
   "id": "3c9a5d7f-c1ac-48f7-a780-e9822a2fadf5",
   "metadata": {},
   "outputs": [],
   "source": [
    "!pip install unstructured[md] sentence-transformers langchain chromadb"
   ]
  },
  {
   "cell_type": "code",
   "execution_count": 29,
   "id": "8dab53c3-22b1-4ae0-986f-6feb4e208f83",
   "metadata": {},
   "outputs": [
    {
     "name": "stdout",
     "output_type": "stream",
     "text": [
      "Requirement already satisfied: unstructured[md] in /home/kglin/miniconda3/envs/central_bank/lib/python3.11/site-packages (0.10.18)\n",
      "Requirement already satisfied: pip in /home/kglin/miniconda3/envs/central_bank/lib/python3.11/site-packages (23.2.1)\n",
      "Collecting install\n",
      "  Downloading install-1.3.5-py3-none-any.whl (3.2 kB)\n",
      "Collecting sentence-transformers\n",
      "  Using cached sentence-transformers-2.2.2.tar.gz (85 kB)\n",
      "  Preparing metadata (setup.py) ... \u001b[?25ldone\n",
      "\u001b[?25hRequirement already satisfied: chardet in /home/kglin/miniconda3/envs/central_bank/lib/python3.11/site-packages (from unstructured[md]) (5.2.0)\n",
      "Requirement already satisfied: filetype in /home/kglin/miniconda3/envs/central_bank/lib/python3.11/site-packages (from unstructured[md]) (1.2.0)\n",
      "Requirement already satisfied: python-magic in /home/kglin/miniconda3/envs/central_bank/lib/python3.11/site-packages (from unstructured[md]) (0.4.27)\n",
      "Requirement already satisfied: lxml in /home/kglin/miniconda3/envs/central_bank/lib/python3.11/site-packages (from unstructured[md]) (4.9.3)\n",
      "Requirement already satisfied: nltk in /home/kglin/miniconda3/envs/central_bank/lib/python3.11/site-packages (from unstructured[md]) (3.8.1)\n",
      "Requirement already satisfied: tabulate in /home/kglin/miniconda3/envs/central_bank/lib/python3.11/site-packages (from unstructured[md]) (0.9.0)\n",
      "Requirement already satisfied: requests in /home/kglin/miniconda3/envs/central_bank/lib/python3.11/site-packages (from unstructured[md]) (2.31.0)\n",
      "Requirement already satisfied: beautifulsoup4 in /home/kglin/miniconda3/envs/central_bank/lib/python3.11/site-packages (from unstructured[md]) (4.12.2)\n",
      "Requirement already satisfied: emoji in /home/kglin/miniconda3/envs/central_bank/lib/python3.11/site-packages (from unstructured[md]) (2.8.0)\n",
      "Requirement already satisfied: dataclasses-json in /home/kglin/miniconda3/envs/central_bank/lib/python3.11/site-packages (from unstructured[md]) (0.6.1)\n",
      "Requirement already satisfied: python-iso639 in /home/kglin/miniconda3/envs/central_bank/lib/python3.11/site-packages (from unstructured[md]) (2023.6.15)\n",
      "Requirement already satisfied: langdetect in /home/kglin/miniconda3/envs/central_bank/lib/python3.11/site-packages (from unstructured[md]) (1.0.9)\n",
      "Requirement already satisfied: numpy in /home/kglin/miniconda3/envs/central_bank/lib/python3.11/site-packages (from unstructured[md]) (1.26.0)\n",
      "Requirement already satisfied: markdown in /home/kglin/miniconda3/envs/central_bank/lib/python3.11/site-packages (from unstructured[md]) (3.4.4)\n",
      "Requirement already satisfied: transformers<5.0.0,>=4.6.0 in /home/kglin/miniconda3/envs/central_bank/lib/python3.11/site-packages (from sentence-transformers) (4.33.3)\n",
      "Requirement already satisfied: tqdm in /home/kglin/miniconda3/envs/central_bank/lib/python3.11/site-packages (from sentence-transformers) (4.66.1)\n",
      "Requirement already satisfied: torch>=1.6.0 in /home/kglin/miniconda3/envs/central_bank/lib/python3.11/site-packages (from sentence-transformers) (2.0.1)\n",
      "Collecting torchvision (from sentence-transformers)\n",
      "  Using cached torchvision-0.15.2-cp311-cp311-manylinux1_x86_64.whl (6.0 MB)\n",
      "Requirement already satisfied: scikit-learn in /home/kglin/miniconda3/envs/central_bank/lib/python3.11/site-packages (from sentence-transformers) (1.3.0)\n",
      "Requirement already satisfied: scipy in /home/kglin/miniconda3/envs/central_bank/lib/python3.11/site-packages (from sentence-transformers) (1.11.1)\n",
      "Collecting sentencepiece (from sentence-transformers)\n",
      "  Using cached sentencepiece-0.1.99-cp311-cp311-manylinux_2_17_x86_64.manylinux2014_x86_64.whl (1.3 MB)\n",
      "Requirement already satisfied: huggingface-hub>=0.4.0 in /home/kglin/miniconda3/envs/central_bank/lib/python3.11/site-packages (from sentence-transformers) (0.17.3)\n",
      "Requirement already satisfied: filelock in /home/kglin/miniconda3/envs/central_bank/lib/python3.11/site-packages (from huggingface-hub>=0.4.0->sentence-transformers) (3.12.4)\n",
      "Requirement already satisfied: fsspec in /home/kglin/miniconda3/envs/central_bank/lib/python3.11/site-packages (from huggingface-hub>=0.4.0->sentence-transformers) (2023.9.2)\n",
      "Requirement already satisfied: pyyaml>=5.1 in /home/kglin/miniconda3/envs/central_bank/lib/python3.11/site-packages (from huggingface-hub>=0.4.0->sentence-transformers) (6.0.1)\n",
      "Requirement already satisfied: typing-extensions>=3.7.4.3 in /home/kglin/miniconda3/envs/central_bank/lib/python3.11/site-packages (from huggingface-hub>=0.4.0->sentence-transformers) (4.8.0)\n",
      "Requirement already satisfied: packaging>=20.9 in /home/kglin/miniconda3/envs/central_bank/lib/python3.11/site-packages (from huggingface-hub>=0.4.0->sentence-transformers) (23.1)\n",
      "Requirement already satisfied: sympy in /home/kglin/miniconda3/envs/central_bank/lib/python3.11/site-packages (from torch>=1.6.0->sentence-transformers) (1.12)\n",
      "Requirement already satisfied: networkx in /home/kglin/miniconda3/envs/central_bank/lib/python3.11/site-packages (from torch>=1.6.0->sentence-transformers) (3.1)\n",
      "Requirement already satisfied: jinja2 in /home/kglin/miniconda3/envs/central_bank/lib/python3.11/site-packages (from torch>=1.6.0->sentence-transformers) (3.1.2)\n",
      "Requirement already satisfied: nvidia-cuda-nvrtc-cu11==11.7.99 in /home/kglin/miniconda3/envs/central_bank/lib/python3.11/site-packages (from torch>=1.6.0->sentence-transformers) (11.7.99)\n",
      "Requirement already satisfied: nvidia-cuda-runtime-cu11==11.7.99 in /home/kglin/miniconda3/envs/central_bank/lib/python3.11/site-packages (from torch>=1.6.0->sentence-transformers) (11.7.99)\n",
      "Requirement already satisfied: nvidia-cuda-cupti-cu11==11.7.101 in /home/kglin/miniconda3/envs/central_bank/lib/python3.11/site-packages (from torch>=1.6.0->sentence-transformers) (11.7.101)\n",
      "Requirement already satisfied: nvidia-cudnn-cu11==8.5.0.96 in /home/kglin/miniconda3/envs/central_bank/lib/python3.11/site-packages (from torch>=1.6.0->sentence-transformers) (8.5.0.96)\n",
      "Requirement already satisfied: nvidia-cublas-cu11==11.10.3.66 in /home/kglin/miniconda3/envs/central_bank/lib/python3.11/site-packages (from torch>=1.6.0->sentence-transformers) (11.10.3.66)\n",
      "Requirement already satisfied: nvidia-cufft-cu11==10.9.0.58 in /home/kglin/miniconda3/envs/central_bank/lib/python3.11/site-packages (from torch>=1.6.0->sentence-transformers) (10.9.0.58)\n",
      "Requirement already satisfied: nvidia-curand-cu11==10.2.10.91 in /home/kglin/miniconda3/envs/central_bank/lib/python3.11/site-packages (from torch>=1.6.0->sentence-transformers) (10.2.10.91)\n",
      "Requirement already satisfied: nvidia-cusolver-cu11==11.4.0.1 in /home/kglin/miniconda3/envs/central_bank/lib/python3.11/site-packages (from torch>=1.6.0->sentence-transformers) (11.4.0.1)\n",
      "Requirement already satisfied: nvidia-cusparse-cu11==11.7.4.91 in /home/kglin/miniconda3/envs/central_bank/lib/python3.11/site-packages (from torch>=1.6.0->sentence-transformers) (11.7.4.91)\n",
      "Requirement already satisfied: nvidia-nccl-cu11==2.14.3 in /home/kglin/miniconda3/envs/central_bank/lib/python3.11/site-packages (from torch>=1.6.0->sentence-transformers) (2.14.3)\n",
      "Requirement already satisfied: nvidia-nvtx-cu11==11.7.91 in /home/kglin/miniconda3/envs/central_bank/lib/python3.11/site-packages (from torch>=1.6.0->sentence-transformers) (11.7.91)\n",
      "Requirement already satisfied: triton==2.0.0 in /home/kglin/miniconda3/envs/central_bank/lib/python3.11/site-packages (from torch>=1.6.0->sentence-transformers) (2.0.0)\n",
      "Requirement already satisfied: setuptools in /home/kglin/miniconda3/envs/central_bank/lib/python3.11/site-packages (from nvidia-cublas-cu11==11.10.3.66->torch>=1.6.0->sentence-transformers) (68.0.0)\n",
      "Requirement already satisfied: wheel in /home/kglin/miniconda3/envs/central_bank/lib/python3.11/site-packages (from nvidia-cublas-cu11==11.10.3.66->torch>=1.6.0->sentence-transformers) (0.38.4)\n",
      "Requirement already satisfied: cmake in /home/kglin/miniconda3/envs/central_bank/lib/python3.11/site-packages (from triton==2.0.0->torch>=1.6.0->sentence-transformers) (3.27.4.1)\n",
      "Requirement already satisfied: lit in /home/kglin/miniconda3/envs/central_bank/lib/python3.11/site-packages (from triton==2.0.0->torch>=1.6.0->sentence-transformers) (16.0.6)\n",
      "Requirement already satisfied: regex!=2019.12.17 in /home/kglin/miniconda3/envs/central_bank/lib/python3.11/site-packages (from transformers<5.0.0,>=4.6.0->sentence-transformers) (2023.8.8)\n",
      "Requirement already satisfied: tokenizers!=0.11.3,<0.14,>=0.11.1 in /home/kglin/miniconda3/envs/central_bank/lib/python3.11/site-packages (from transformers<5.0.0,>=4.6.0->sentence-transformers) (0.13.3)\n",
      "Requirement already satisfied: safetensors>=0.3.1 in /home/kglin/miniconda3/envs/central_bank/lib/python3.11/site-packages (from transformers<5.0.0,>=4.6.0->sentence-transformers) (0.3.3)\n",
      "Requirement already satisfied: soupsieve>1.2 in /home/kglin/miniconda3/envs/central_bank/lib/python3.11/site-packages (from beautifulsoup4->unstructured[md]) (2.5)\n",
      "Requirement already satisfied: marshmallow<4.0.0,>=3.18.0 in /home/kglin/miniconda3/envs/central_bank/lib/python3.11/site-packages (from dataclasses-json->unstructured[md]) (3.20.1)\n",
      "Requirement already satisfied: typing-inspect<1,>=0.4.0 in /home/kglin/miniconda3/envs/central_bank/lib/python3.11/site-packages (from dataclasses-json->unstructured[md]) (0.9.0)\n",
      "Requirement already satisfied: six in /home/kglin/miniconda3/envs/central_bank/lib/python3.11/site-packages (from langdetect->unstructured[md]) (1.16.0)\n",
      "Requirement already satisfied: click in /home/kglin/miniconda3/envs/central_bank/lib/python3.11/site-packages (from nltk->unstructured[md]) (8.1.7)\n",
      "Requirement already satisfied: joblib in /home/kglin/miniconda3/envs/central_bank/lib/python3.11/site-packages (from nltk->unstructured[md]) (1.2.0)\n",
      "Requirement already satisfied: charset-normalizer<4,>=2 in /home/kglin/miniconda3/envs/central_bank/lib/python3.11/site-packages (from requests->unstructured[md]) (3.2.0)\n",
      "Requirement already satisfied: idna<4,>=2.5 in /home/kglin/miniconda3/envs/central_bank/lib/python3.11/site-packages (from requests->unstructured[md]) (3.4)\n",
      "Requirement already satisfied: urllib3<3,>=1.21.1 in /home/kglin/miniconda3/envs/central_bank/lib/python3.11/site-packages (from requests->unstructured[md]) (2.0.5)\n",
      "Requirement already satisfied: certifi>=2017.4.17 in /home/kglin/miniconda3/envs/central_bank/lib/python3.11/site-packages (from requests->unstructured[md]) (2023.7.22)\n",
      "Requirement already satisfied: threadpoolctl>=2.0.0 in /home/kglin/miniconda3/envs/central_bank/lib/python3.11/site-packages (from scikit-learn->sentence-transformers) (2.2.0)\n",
      "Requirement already satisfied: pillow!=8.3.*,>=5.3.0 in /home/kglin/miniconda3/envs/central_bank/lib/python3.11/site-packages (from torchvision->sentence-transformers) (9.5.0)\n",
      "Requirement already satisfied: mypy-extensions>=0.3.0 in /home/kglin/miniconda3/envs/central_bank/lib/python3.11/site-packages (from typing-inspect<1,>=0.4.0->dataclasses-json->unstructured[md]) (1.0.0)\n",
      "Requirement already satisfied: MarkupSafe>=2.0 in /home/kglin/miniconda3/envs/central_bank/lib/python3.11/site-packages (from jinja2->torch>=1.6.0->sentence-transformers) (2.1.3)\n",
      "Requirement already satisfied: mpmath>=0.19 in /home/kglin/miniconda3/envs/central_bank/lib/python3.11/site-packages (from sympy->torch>=1.6.0->sentence-transformers) (1.3.0)\n",
      "Building wheels for collected packages: sentence-transformers\n",
      "  Building wheel for sentence-transformers (setup.py) ... \u001b[?25ldone\n",
      "\u001b[?25h  Created wheel for sentence-transformers: filename=sentence_transformers-2.2.2-py3-none-any.whl size=125925 sha256=56eae50884560b1141e1c19e8f48a91376e82725f64057d6192c0e07d8d0a0a4\n",
      "  Stored in directory: /home/kglin/.cache/pip/wheels/ff/27/bf/ffba8b318b02d7f691a57084ee154e26ed24d012b0c7805881\n",
      "Successfully built sentence-transformers\n",
      "Installing collected packages: sentencepiece, install, torchvision, sentence-transformers\n",
      "Successfully installed install-1.3.5 sentence-transformers-2.2.2 sentencepiece-0.1.99 torchvision-0.15.2\n"
     ]
    }
   ],
   "source": [
    "from langchain.vectorstores import Chroma\n",
    "from langchain.embeddings import OpenAIEmbeddings,HuggingFaceEmbeddings\n",
    "from langchain.text_splitter import RecursiveCharacterTextSplitter,MarkdownHeaderTextSplitter\n",
    "from langchain.chains import VectorDBQA\n",
    "from langchain.document_loaders import TextLoader,DirectoryLoader"
   ]
  },
  {
   "cell_type": "code",
   "execution_count": 48,
   "id": "b6959b7d-cb26-46ae-bdf1-865f8d72987a",
   "metadata": {},
   "outputs": [
    {
     "data": {
      "text/plain": [
       "[Document(page_content='Больничные  \\nРазмер пособия по временной нетрудоспособности (больничного) зависит от страхового стажа сотрудника:  \\nесли страховой стаж от 6 месяцев до 5 лет, то ему оплачивается 60% среднего заработка;  \\nот 5 до 8 лет — 80%;  \\nболее 8 лет — 100%.'),\n",
       " Document(page_content='более 8 лет — 100%.  \\nесли стаж сотрудника  менее 6 месяцев, то пособие по временной нетрудоспособности выплачивается в размере, не превышающем МРОТ за полный календарный месяц. С 1 января 2022 года МРОТ составляет 15 279 руб.\\nВажно!'),\n",
       " Document(page_content='Важно!  \\nПосле прохождения испытательного срока, в случае выполнения рабочих задач в период больничного, может быть произведена доплата до средней ЗП, в независимости от страхового стажа.'),\n",
       " Document(page_content='(В этом случае необходимо обратиться к своему непосредственному лид-линку и специалисту HR)  \\nАдаптация сотрудника  \\nПолучи доступы'),\n",
       " Document(page_content='Получи доступы  \\nТвои доступы ко всем сервисам, которыми мы пользуемся в компании, находятся у системных администраторов. Они либо сами тебе отправят в телеграмм их, либо HR, который будет с тобой на протяжении всего периода адаптации ;-)'),\n",
       " Document(page_content='Наш bot тебе поможет во многом: завести тикет, узнать коллегу, списать время и многое другое  \\nКонтакты всех нужных тебе людей выделены в отдельную кнопочку \"Список полезных контактов\", который доступен тебе на каждом шагу.'),\n",
       " Document(page_content=\"Займись своим оформлением  \\nСкорее всего, все документы ты уже передал HR'ам (Татьяна @tata, Виолетта @vita). Если нет, то быстрее это сделай ^-^  \\nКак подписать и получить свои документы: я в НСК/я иногородний\"),\n",
       " Document(page_content='Немного бюрократии (Здесь ты можешь получить информацию по финансам, профилю сотрудника (где он и что в нем есть) и где найти шаблоны всех документов и ознакомиться с внутренними нормативными актами)  \\nПознакомься со структурой и командой'),\n",
       " Document(page_content='Возможно ты уже знаешь, у нас круговая структура)\\n- Круг - это объединение в группу нескольких Ролей для реализации задачи или своего предназначения.'),\n",
       " Document(page_content='- Роль - это зона ответственности. Сотрудник обещает достичь тут нужного результата всеми доступными методами, опираясь на здравый смысл, наши правила и принципы.\\nТакже в каждом круге есть обязательные роли, но они не являются основными:'),\n",
       " Document(page_content='Лид Линк - предназначением Лид-линка является формирование и развитие команды;  \\nФасилитатор - отвечает за модерирование (фасилитацию) встреч, проводимых в Круге.'),\n",
       " Document(page_content='Секретарь - отвечает за систематизацию информации документирование проводимых в Круге встреч.  \\nУзнать свою роль, кто твой Лид-линк и твой круг  \\nПознакомься с компанией'),\n",
       " Document(page_content='Познакомься с компанией  \\nМы все общаемся на “ты”, без официоза. Любые твои вопросы — показатель для нас, что у тебя все ок, ты стараешься разобраться в происходящем и проявляешь здоровую инициативу.'),\n",
       " Document(page_content='Глупых вопросов не существует — тебе обязательно ответят и помогут!  \\nГлавное — старайся всегда формулировать вопрос так, чтобы было понятно, что тебе нужно, а собеседнику не приходилось много раз что-то у тебя уточнять.'),\n",
       " Document(page_content='Плохой пример: написать “Привет!” и ждать, когда тебе приветнут в ответ.  \\nХороший пример: “Привет! Я [имя], [роль]. Мне нужно сегодня получить доступ в Confluence, можешь помочь с этим?”'),\n",
       " Document(page_content='Также мы любим общаться в общем чате Smart Consulting, присоединяйся!))  \\nИногда в общем чате появляются внезапные признания в любви и обнимашки. Как ты думаешь, почему такое происходит? :-))'),\n",
       " Document(page_content='Заинтриговали?)) А всё просто: у нас есть правило блокировать ноутбук, когда отходишь от рабочего места. Если этого не сделать, то кто-нибудь из коллег может от твоего имени написать в общий чат о любви и обнимашках))'),\n",
       " Document(page_content='Так что не забывай блочить ноут. Для этого нужно нажать сочетание клавиш Win + L.  \\nБудь на чеку!)))  \\nКультура встреч  \\nВсе встречи можно увидеть в Календаре.'),\n",
       " Document(page_content='Есть разные типы встреч (о них более подробно можно почитать в нашем Кодексе Смартократии -прикрепила), и вкратце в кнопках'),\n",
       " Document(page_content='Тактическая встреча (ТВ) - здесь участники круга следят за достижениями Метрик, выполнении регулярных Проектов, разбирают и решают накопившиеся теншены, фиксируют действия и контролируют их исполнение.'),\n",
       " Document(page_content='Законодательная встреча (ЗВ) нужна для корректировки законодательства Круга (например, изменить предназначение и обязательства, избрать на роль и т.п.)'),\n",
       " Document(page_content='Целевые встречи проводятся для решения отдельных вопросов и могут включать в свой состав участников различных Кругов.'),\n",
       " Document(page_content='Agile встречи: планирование спринта, груминг, демо спринта, дейли, System Demo, участие в PI планировании, ретроспектива (эти страшные слова можно посмотреть в глоссарии)'),\n",
       " Document(page_content='Что на встрече? (Разберем саму встречу: повестка, «парковка», запись встречи, протокол встречи)  \\nОпятница'),\n",
       " Document(page_content='Опятница  \\nОпятница – это неформальная встреча, где мы делимся новостями, планами и радуемся видеть друг друга))Мероприятие проходит каждую пятницу в 9.00 в ЗУМе)'),\n",
       " Document(page_content='Накануне (в четверг) в SCNews появляется подводка к опятнице с неизменной ссылкой на нее))  \\nПрисоединяйся, это интересно, информативно и весело!  \\nОбщие пространства  \\nНаш офис  \\nУ нас есть несколько правил по нашим общим пространствам в офисе:'),\n",
       " Document(page_content='На кухне у нас есть три холодильника:\\n- два из них стандартно предназначены для хранения обедов сотрудников (постарайся не перепутать свой контейнер с контейнером коллеги ☺️)(номерки на картинке 1 и 2)'),\n",
       " Document(page_content='- третий (со стеклянной дверцей) (3 на картинке, наш любименький) – общий, т.е. всё, что находится в нём может использовать любой сотрудник) Но, как известно, в большой семье... Так что успевай:-))'),\n",
       " Document(page_content='- А что у нас с посудой? Мыть или не мыть, вот в чем вопрос'),\n",
       " Document(page_content='После еды мы не моем сами посуду, а ставим посуду в посудомоечную машину (предварительно убрав остатки еды). На машине есть наклейка в зависимости от ее статуса работы (см.картинку):«Жду посуду» - открываете и ставите в нее посуду самостоятельно;'),\n",
       " Document(page_content='в нее посуду самостоятельно; если наклейка «Работаю» – необходимо поставить посуду в раковину, наши Феи позже с помощью магии \"вжууух\" и всё перенесут в машину. При этом при работе посудомоечной машины открывать ее запрещено.Офисные разделочные ножи'),\n",
       " Document(page_content='разделочные ножи и доски моем самостоятельно.'),\n",
       " Document(page_content='Правила кухни и офиса  \\nПролил что-то или просыпал - протри/подмети, пожалуйста (тряпка/веник и совок в сан.узле около кухни)  \\nУвидел забытую грязную кружку/тарелку друга на кухонном столе - убери в посудомойку ;-)'),\n",
       " Document(page_content='Если брали вазу под цветы, после помой, пожалуйста, и протри ее))  \\nПожалуйста, пользуйся в офисе сменной обувью)  \\nЧаты и каналы связи'),\n",
       " Document(page_content='Чаты и каналы связи\\nВот здесь у нас размещены наши общие телеграмм-чаты, каналы связи, которые мы используем в работе и наши сервисы, которые будут тебе полезны в работе 😉  \\nТелеграмм – здесь у нас проходит основное общение))'),\n",
       " Document(page_content='Вот список чатов, которые могут быть тебе полезны:  \\nSmartConsulting – наш основной чат. Наши HR обязательно добавят тебя в него и представят команде, чтобы все ребята могли тебя поприветствовать;-)'),\n",
       " Document(page_content='SC News - здесь ты можешь узнать все новости компании  \\nLegal News - новости об изменениях законодательства РФ и другие юридические тонкости  \\nА вот и полезные ссылки:'),\n",
       " Document(page_content='А вот и полезные ссылки:  \\nЯндекс.Дзен \"Смартократия головного мозга\" - у нас есть свой канал, где мы рассказываем про наш путь к самоорганизации'),\n",
       " Document(page_content='Smart Guide - эта книга – совместный труд #неравнодушных и #свободных мечтателей, жаждущих, чтобы каждый сотрудник Smart Consulting смог максимально реализовать свое предназначение!  \\nСписок полезных контактов'),\n",
       " Document(page_content='Список полезных контактов  \\nВроде бы всё рассказали, но вопросы появляются и это здорово!)) Ты всегда можешь обратиться за помощью или с вопросом, и каждый тебе поможет!)А вот тут небольшой список тех, кто поможет тебе разобраться с непонятным))'),\n",
       " Document(page_content='- Возник вопрос по кадровым документам? Хочешь пойти в отпуск, но не знаешь что сделать? - тебе к HR))\\n- Что-то не работает, не включается и тебе нужно, чтобы к тебе кто-то подошел и всё заработало? - тогда тебе к кругу Центр управления полетами))'),\n",
       " Document(page_content='- Нет канцелярии? Кресло не катается или кофемашина не варит? нужно уехать в командировку? - это к нашим Феям!)\\n- Вопрос финансов? Тогда к финансам!)  \\nГлоссарий'),\n",
       " Document(page_content='Первое время ты можешь слышать много непонятных слов, терминов и аббревиатур. Чтобы тебе помочь разобраться с ними, мы создали Глоссарий)) Если вдруг, какого-то слова нет, ты сообщи, пожалуйста, нам об этом, чтобы мы также могли его пополнять))'),\n",
       " Document(page_content='- Лид-линк (ЛЛ) – это специально обученная Смартократическая роль, которая старается быть максимально полезной для своей команды!\\n- Дейли – ежедневный созвон команды для синхрона.'),\n",
       " Document(page_content='- Тактические встречи (ТВ) – здесь участники круга следят за достижениями Метрик, выполнении регулярных Проектов, разбирают и решают накопившиеся теншены, фиксируют действия и контролируют их исполнение.'),\n",
       " Document(page_content='- Законодательные встречи (ЗВ) – нужна для корректировки законодательства Круга (например, изменить предназначение и обязательства, назначить на роль и т.п.)\\n- Фасилитатор – отвечает за модерирование (фасилитацию) встреч, проводимых в Круге.'),\n",
       " Document(page_content='- Секретарь – отвечает за систематизацию информации и документирование проводимых в Круге встреч\\n- SAFe – это набор организационных шаблонов и шаблонов рабочих процессов для реализации agile-методик в масштабе всей компании.'),\n",
       " Document(page_content='- ВИС - набор ведомственных информсистем, автоматизирующих работу органов власти в разных отраслях.\\n- МЭВ - комплексное решение задач электронного взаимодействия региональных и федеральных ведомств.'),\n",
       " Document(page_content='- МФЦ - всесторонняя автоматизация бизнес-процессов многофункциональных центров предоставления госуслуг.'),\n",
       " Document(page_content='- Груминг - встреча команды, на которой разбираются составляющие бэклога: пользовательские истории, эпики, баги и прочее — все они готовятся к последующим спринтам.'),\n",
       " Document(page_content='- Ретроспектива (ретро) - мероприятие, дающее команде возможность провести инспекцию своей работы и создать план улучшений на следующий Спринт.'),\n",
       " Document(page_content='- Теншен - любая значимая информация, требующая внимания (в том числе значимые события, запросили предоставление информации, нарушение Обязательств, «серые зоны» ответственности, несоблюдение правил, политик, Кодекса и иной разрыв между реальностью'),\n",
       " Document(page_content='иной разрыв между реальностью и ожиданиями'),\n",
       " Document(page_content='Привилегии  \\nКомплексный подход к управлению благополучием\\n- Персонализация льгот\\n- Безопасность и социальная защищенность\\n- Свобода от личных отвлекающих факторов  \\nПрограмма персонализированных льгот - Кафетерий'),\n",
       " Document(page_content='Всем сотрудникам по окончании испытательного срока подключаем базовый ДМС (поликлиника, госпитализация, вызов на дом) + баллы на Кафетерий.  \\nНаполнение Кафетерия зависит от личных предпочтений/потребностей сотрудника и стажа работы в компании.'),\n",
       " Document(page_content='- 3 месяца – 15 000\\n- 1 год - 25 000\\n- 3 года – 35 000\\n- 5 лет – 45 000'),\n",
       " Document(page_content='Сотрудник выбирает любое кол-во льгот на себя и членов своей семьи в рамках лимита. Если стоимость выбранных льгот больше лимита, то сотрудник доплачивает сумму. Если стоимость выбранных льгот меньше лимита, остаток не компенсируется. Отчетный'),\n",
       " Document(page_content='не компенсируется. Отчетный период – 1 год. Лимит не переносится на следующий период'),\n",
       " Document(page_content='Варианты льгот в рамках Кафетерия\\n- ДМС для членов семьи\\n- Стоматология\\n- Компенсация затрат на путевку/билеты или детский лагерь'),\n",
       " Document(page_content='- Компенсация затрат на обучение, в т.ч. получение 2ого высшего образования, изучение иностранного языка и другие виды обучения\\n- Компенсация затрат на фитнес\\n- Компенсация затрат на страхование жизни и другие виды страхования (ОСАГО, имущества…)'),\n",
       " Document(page_content='- Компенсация затрат на парковку авто рядом с офисом  \\nБезопасность и социальная защищенность  \\nВиды материальной помощи и компенсаций\\n- На рождение ребенка\\n- На усыновление/удочерения ребенка\\n- В связи со смертью близкого родственника'),\n",
       " Document(page_content='- Выплата в связи с экстренной ситуацией (в т.ч. оплата лечения при сложных заболеваниях)\\n- Доплата до средней ЗП при работе на больничном\\n- Оплачиваемый отпуск на бракосочетание (2 дня)\\n- Оплачиваемый отпуск на рождение ребенка отцам (2 дня)'),\n",
       " Document(page_content='- Оплачиваемый отпуск матери/отцу в связи с усыновлением/удочерением ребенка (5 дней)\\n- Оплачиваемый отпуск в связи со смертью близкого родственника (3 дня)'),\n",
       " Document(page_content='- Оплата сотовой связи (базовый интернет-безлимит 600 руб. + по производственной необходимости)\\n- Оплата такси (начало/ окончание рабочего дня согласно произв. графика в период с 22.00 до 7.00 час. + по произв. необ-ти)'),\n",
       " Document(page_content='Свобода от личных отвлекающих факторов Специальный сервис для работников, который помогает получить профессиональные консультации и решить личные юридические, финансовые и психологические вопросы\\n- Юридическая поддержка.\\n- Финансовые консультации.'),\n",
       " Document(page_content='- Финансовые консультации.\\n- Психологическая поддержка\\n- ЗОЖ  \\nКорпоративные скидки для сотрудников у поставщиков компании и партнеров')]"
      ]
     },
     "execution_count": 48,
     "metadata": {},
     "output_type": "execute_result"
    }
   ],
   "source": [
    "# Load and process the text\n",
    "loader = DirectoryLoader('./train_dataset_consulting/', glob=\"*.md\")\n",
    "documents = loader.load()\n",
    "\n",
    "\n",
    "headers_to_split_on = [\n",
    "(\"#\", \"Header 1\"),\n",
    "(\"##\", \"Header 2\"),\n",
    "(\"###\", \"Header 3\"),\n",
    "]\n",
    "text_splitter = MarkdownHeaderTextSplitter(headers_to_split_on=headers_to_split_on)\n",
    "texts = text_splitter.split_text(str(documents[0].page_content))\n",
    "from langchain.text_splitter import RecursiveCharacterTextSplitter\n",
    "\n",
    "chunk_size = 250\n",
    "chunk_overlap = 30\n",
    "text_splitter = RecursiveCharacterTextSplitter(\n",
    "    chunk_size=chunk_size, chunk_overlap=chunk_overlap\n",
    ")\n",
    "\n",
    "# Split\n",
    "splits = text_splitter.split_documents(texts)\n",
    "splits"
   ]
  },
  {
   "cell_type": "code",
   "execution_count": 49,
   "id": "0bcce000-6361-4b40-95d6-70d9231f7d6d",
   "metadata": {},
   "outputs": [],
   "source": [
    "persist_directory = 'db'\n",
    "\n",
    "\n",
    "model_name = \"distiluse-base-multilingual-cased-v1\"\n",
    "model_kwargs = {'device': 'cpu'}\n",
    "encode_kwargs = {'normalize_embeddings': True}\n",
    "\n",
    "hf = HuggingFaceEmbeddings(\n",
    "    model_name=model_name,\n",
    "    model_kwargs=model_kwargs,\n",
    "    encode_kwargs=encode_kwargs\n",
    ")\n",
    "\n",
    "vectordb = Chroma.from_documents(documents=splits, embedding=hf, persist_directory=persist_directory)\n"
   ]
  },
  {
   "cell_type": "code",
   "execution_count": 50,
   "id": "2f9f5633-3ee2-4736-8697-040f1b83269c",
   "metadata": {},
   "outputs": [],
   "source": [
    "vectordb.persist()\n",
    "vectordb = None\n",
    "vectordb = Chroma(persist_directory=persist_directory, embedding_function=hf)"
   ]
  },
  {
   "cell_type": "code",
   "execution_count": 51,
   "id": "17b9d416-48f4-44a0-a21c-c54a0f331ad3",
   "metadata": {},
   "outputs": [
    {
     "name": "stdout",
     "output_type": "stream",
     "text": [
      "[Document(page_content='Правила кухни и офиса  \\nПролил что-то или просыпал - протри/подмети, пожалуйста (тряпка/веник и совок в сан.узле около кухни)  \\nУвидел забытую грязную кружку/тарелку друга на кухонном столе - убери в посудомойку ;-)'), Document(page_content='Правила кухни и офиса  \\nПролил что-то или просыпал - протри/подмети, пожалуйста (тряпка/веник и совок в сан.узле около кухни)  \\nУвидел забытую грязную кружку/тарелку друга на кухонном столе - убери в посудомойку ;-)'), Document(page_content='- А что у нас с посудой? Мыть или не мыть, вот в чем вопрос'), Document(page_content='- А что у нас с посудой? Мыть или не мыть, вот в чем вопрос')]\n"
     ]
    }
   ],
   "source": [
    "result = vectordb.similarity_search(\"Как вести себя на кухне?\")\n",
    "print(result)"
   ]
  },
  {
   "cell_type": "code",
   "execution_count": 46,
   "id": "448bc05d-9b70-4912-ba14-ead71b719e37",
   "metadata": {},
   "outputs": [
    {
     "data": {
      "text/plain": [
       "4"
      ]
     },
     "execution_count": 46,
     "metadata": {},
     "output_type": "execute_result"
    }
   ],
   "source": [
    "len(result)"
   ]
  }
 ],
 "metadata": {
  "kernelspec": {
   "display_name": "Python 3 (ipykernel)",
   "language": "python",
   "name": "python3"
  },
  "language_info": {
   "codemirror_mode": {
    "name": "ipython",
    "version": 3
   },
   "file_extension": ".py",
   "mimetype": "text/x-python",
   "name": "python",
   "nbconvert_exporter": "python",
   "pygments_lexer": "ipython3",
   "version": "3.11.4"
  }
 },
 "nbformat": 4,
 "nbformat_minor": 5
}
