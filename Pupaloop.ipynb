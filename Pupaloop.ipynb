{
  "nbformat": 4,
  "nbformat_minor": 0,
  "metadata": {
    "colab": {
      "provenance": [],
      "authorship_tag": "ABX9TyOBz3PxdIWZwu47ogFAVAjG",
      "include_colab_link": true
    },
    "kernelspec": {
      "name": "python3",
      "display_name": "Python 3"
    },
    "language_info": {
      "name": "python"
    }
  },
  "cells": [
    {
      "cell_type": "markdown",
      "metadata": {
        "id": "view-in-github",
        "colab_type": "text"
      },
      "source": [
        "<a href=\"https://colab.research.google.com/github/aryana64/HR_bot/blob/main/Pupaloop.ipynb\" target=\"_parent\"><img src=\"https://colab.research.google.com/assets/colab-badge.svg\" alt=\"Open In Colab\"/></a>"
      ]
    },
    {
      "cell_type": "code",
      "execution_count": 1,
      "metadata": {
        "colab": {
          "base_uri": "https://localhost:8080/"
        },
        "id": "6s7KT-HAPlDl",
        "outputId": "a976c270-0364-44ad-88e1-163882f849bf"
      },
      "outputs": [
        {
          "output_type": "stream",
          "name": "stdout",
          "text": [
            "Pupa, my salary=0\n",
            "Lupa, my salary=0\n",
            "[3]\n",
            "[-1]\n",
            "#############################################\n",
            "Pupa, my salary=10\n",
            "Lupa, my salary=0\n",
            "#############################################\n",
            "Pupa, my salary=10\n",
            "Lupa, my salary=30\n"
          ]
        }
      ],
      "source": [
        "class Accountant():\n",
        "    def __init__(self):\n",
        "        pass\n",
        "    def give_salary(self,worker):\n",
        "        worker.take_salary(worker,10)\n",
        "\n",
        "\n",
        "class Pupa:\n",
        "    def __init__(self):\n",
        "        self.salary=0\n",
        "    def __repr__(self):\n",
        "        return f'Pupa, my salary={self.salary}'\n",
        "    def do_work(self,spisok1,spisok2):\n",
        "        return [x + y for x, y in zip(spisok1, spisok2)]\n",
        "    @staticmethod\n",
        "    def take_salary(self,salary):\n",
        "        self.salary+=salary\n",
        "\n",
        "class Lupa:\n",
        "    def __init__(self):\n",
        "        self.salary=0\n",
        "    def __repr__(self):\n",
        "        return f'Lupa, my salary={self.salary}'\n",
        "    def do_work(self,spisok1,spisok2):\n",
        "        return [x - y for x, y in zip(spisok1, spisok2)]\n",
        "    @staticmethod\n",
        "    def take_salary(self,salary):\n",
        "        self.salary+=salary\n",
        "\n",
        "A=Accountant()\n",
        "P,L=Pupa(),Lupa()\n",
        "print(P)\n",
        "print(L)\n",
        "print(P.do_work([1],[2]))\n",
        "print(L.do_work([1],[2]))\n",
        "print('#############################################')\n",
        "A.give_salary(P)\n",
        "print(P)\n",
        "print(L)\n",
        "print('#############################################')\n",
        "A.give_salary(L)\n",
        "A.give_salary(L)\n",
        "A.give_salary(L)\n",
        "print(P)\n",
        "print(L)"
      ]
    },
    {
      "cell_type": "code",
      "source": [],
      "metadata": {
        "id": "laBeVOQtToDD"
      },
      "execution_count": null,
      "outputs": []
    }
  ]
}